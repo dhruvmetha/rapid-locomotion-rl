{
 "cells": [
  {
   "cell_type": "code",
   "execution_count": null,
   "id": "2bf297ef-6e04-456a-82ba-6d845012d5c1",
   "metadata": {},
   "outputs": [],
   "source": [
    "from torch.utils.data import Dataset\n",
    "import numpy as np\n",
    "from glob import glob\n",
    "import torch\n",
    "\n",
    "class CustomDataset(Dataset):\n",
    "    def __init__(self, files, sequence_length, window_size=25):\n",
    "        # self.folder = folder\n",
    "        self.all_folders = files\n",
    "        self.sequence_length = int(sequence_length)\n",
    "        self.window_size = int(window_size)\n",
    "        self.batch_sequence_segment = np.zeros((len(self.all_folders)), dtype=np.int)\n",
    "\n",
    "    def __len__(self):\n",
    "        return int((len(self.all_folders)))\n",
    "    \n",
    "    def __getitem__(self, idx):\n",
    "        # if idx == 0:\n",
    "        #     print(self.batch_sequence_segment[idx])\n",
    "        data = np.load(self.all_folders[idx])\n",
    "        inp, target, mask = torch.tensor(data['inp']), torch.tensor(data['target']), torch.tensor(data['mask'])\n",
    "        inp_idx, targ_idx, mask_idx = inp[self.batch_sequence_segment[idx]:self.batch_sequence_segment[idx]+self.window_size], \\\n",
    "                            target[self.batch_sequence_segment[idx]:self.batch_sequence_segment[idx]+self.window_size], \\\n",
    "                            mask[self.batch_sequence_segment[idx]:self.batch_sequence_segment[idx]+self.window_size]\n",
    "        # if self.batch_sequence_segment[idx] == inp.shape[0] - self.window_size:\n",
    "        if self.batch_sequence_segment[idx] == self.sequence_length - self.window_size:\n",
    "            self.batch_sequence_segment[idx] = 0\n",
    "        else:\n",
    "            self.batch_sequence_segment[idx] += self.window_size\n",
    "        return inp_idx, targ_idx, mask_idx, self.batch_sequence_segment[idx] == 25, idx"
   ]
  },
  {
   "cell_type": "code",
   "execution_count": null,
   "id": "9d4da556-4188-47af-899d-e38a7c9449b6",
   "metadata": {},
   "outputs": [],
   "source": [
    "import torch\n",
    "import torch.nn as nn\n",
    "import torch.nn.functional as F\n",
    "import torch.optim as optim\n",
    "import numpy as np\n",
    "from torch.utils.data import DataLoader, Dataset\n",
    "\n",
    "# data_file = '/common/users/dm1487/legged_manipulation_data/rollout_data/set_3_trajectories/rnn_200k_data.npz'\n",
    "\n",
    "# data_dict = np.load(data_file)\n",
    "# print(list(data_dict.keys()))\n",
    "\n",
    "# inp = data_dict['inp']\n",
    "# target = data_dict['target']\n",
    "# mask = data_dict['mask'][:, :750]\n",
    "# print(inp.shape, target.shape, mask.shape)"
   ]
  },
  {
   "cell_type": "code",
   "execution_count": null,
   "id": "6bed6bb5-63e0-4e22-a6fa-a404fb6f7c30",
   "metadata": {},
   "outputs": [],
   "source": [
    "# from tqdm import tqdm\n",
    "# from pathlib import Path\n",
    "# traj_data_file = '/common/users/dm1487/legged_manipulation_data/rollout_data/set_3_trajectories/all_trajectory_files'\n",
    "# Path(traj_data_file).mkdir(parents=True, exist_ok=True)\n",
    "# for idx, (i, j, k) in tqdm(enumerate(zip(inp, target, mask))):\n",
    "#     np.savez_compressed(f'{traj_data_file}/{idx}', inp=i, target=j, mask=k)"
   ]
  },
  {
   "cell_type": "code",
   "execution_count": null,
   "id": "73d3ec08-45e0-4176-98f5-d52f97830827",
   "metadata": {},
   "outputs": [],
   "source": [
    "traj_data_file = '/common/users/dm1487/legged_manipulation_data/rollout_data/set_3_trajectories/all_trajectory_files'\n",
    "\n",
    "train_idxs = np.concatenate((np.random.randint(0, 60000, 40000), np.random.randint(60000, 120000, 40000), np.random.randint(120000, 180000, 40000)), axis=-1).astype(int).tolist()\n",
    "train_idxs = np.random.randint(0, 180000, 1000).astype(int).tolist()\n",
    "\n",
    "# train_idxs = np.random.randint(0, 180000, 30000).astype(int).tolist()\n",
    "test_idxs = np.random.randint(180000, 200000, 1000).astype(int).tolist()\n",
    "\n",
    "training_files = sorted(glob(f'{traj_data_file}/*.npz'), key=lambda x: int(x.split('.npz')[0].split('/')[-1]))\n",
    "training_files = [training_files[i] for i in train_idxs]\n",
    "test_files = sorted(glob(f'{traj_data_file}/*.npz'), key=lambda x: int(x.split('.npz')[0].split('/')[-1]))\n",
    "test_files = [test_files[i] for i in test_idxs]\n",
    "\n",
    "ds = CustomDataset(files=training_files, sequence_length=250, window_size=250)\n",
    "dl = DataLoader(ds, batch_size=64, shuffle=True)"
   ]
  },
  {
   "cell_type": "code",
   "execution_count": null,
   "id": "cf6b25d4-586f-4106-93ed-d3cc4908d465",
   "metadata": {},
   "outputs": [],
   "source": [
    "# next(iter(dl))[0].shape"
   ]
  },
  {
   "cell_type": "code",
   "execution_count": null,
   "id": "fc4a937e-70dc-4904-a353-f896d2366cd1",
   "metadata": {},
   "outputs": [],
   "source": [
    "# A 2 layer LSTM with 128 hidden units with prediction of every output\n",
    "class LSTM(nn.Module):\n",
    "    def __init__(self, input_size, hidden_size, output_size, num_layers=2):\n",
    "        super(LSTM, self).__init__()\n",
    "        self.hidden_size = hidden_size\n",
    "        self.num_layers = num_layers\n",
    "        self.lstm = nn.LSTM(input_size, hidden_size, num_layers, batch_first=True)\n",
    "        self.fc = nn.Linear(hidden_size, output_size)\n",
    "    \n",
    "    def forward(self, x, hidden_states=None):\n",
    "        h0 = torch.zeros(self.num_layers, x.size(0), self.hidden_size).to(device)\n",
    "        c0 = torch.zeros(self.num_layers, x.size(0), self.hidden_size).to(device)\n",
    "        out, _ = self.lstm(x, (h0, c0))\n",
    "        out = self.fc(out)\n",
    "        return out"
   ]
  },
  {
   "cell_type": "code",
   "execution_count": null,
   "id": "d09378de-3e0c-4826-bebc-8333b58eb5c1",
   "metadata": {},
   "outputs": [],
   "source": [
    "import math\n",
    "class MiniTransformer(nn.Module):\n",
    "    def __init__(self, input_size, output_size, embed_size=512, hidden_size=2048, num_heads=8, max_sequence_length=250, num_layers=6):\n",
    "        super(MiniTransformer, self).__init__()\n",
    "\n",
    "        self.hidden_size = hidden_size\n",
    "        self.num_layers = num_layers\n",
    "        self.linear_in = nn.Linear(input_size, embed_size)\n",
    "        self.encoder_layer = nn.TransformerEncoderLayer(d_model=embed_size, nhead=num_heads, \n",
    "                                                        dim_feedforward=hidden_size, batch_first=True)\n",
    "        self.encoder = nn.TransformerEncoder(self.encoder_layer, num_layers)\n",
    "        self.linear_out = nn.Linear(embed_size, output_size)\n",
    "        self.positonal_embedding = PositionalEncoding(embed_size, max_len=max_sequence_length)\n",
    "    \n",
    "    def forward(self, x, src_mask, key_mask):\n",
    "        x = self.linear_in(x)\n",
    "        # print(x)\n",
    "        x = self.positonal_embedding(x)\n",
    "        x = self.encoder(x, mask=src_mask, src_key_padding_mask=key_mask)\n",
    "        # print(x)\n",
    "        x = self.linear_out(x)\n",
    "        return x\n",
    "\n",
    "class PositionalEncoding(nn.Module):\n",
    "\n",
    "    def __init__(self, d_model: int, dropout: float = 0.1, max_len: int = 5000):\n",
    "        super().__init__()\n",
    "        self.dropout = nn.Dropout(p=dropout)\n",
    "\n",
    "        position = torch.arange(max_len).unsqueeze(1)\n",
    "        div_term = torch.exp(torch.arange(0, d_model, 2) * (-math.log(10000.0) / d_model))\n",
    "        pe = torch.zeros(max_len, 1, d_model)\n",
    "        pe[:, 0, 0::2] = torch.sin(position * div_term)\n",
    "        pe[:, 0, 1::2] = torch.cos(position * div_term)\n",
    "        self.register_buffer('pe', pe)\n",
    "\n",
    "    def forward(self, x):\n",
    "        \"\"\"\n",
    "        Args:\n",
    "            x: Tensor, shape [seq_len, batch_size, embedding_dim]\n",
    "        \"\"\"\n",
    "        x = x + self.pe[:x.size(0)]\n",
    "        return self.dropout(x)"
   ]
  },
  {
   "cell_type": "code",
   "execution_count": null,
   "id": "2894bcb9-134c-4fd2-9a5e-f309ff5b0fa0",
   "metadata": {},
   "outputs": [],
   "source": [
    "model = MiniTransformer(37, 14, 512, 2048, 8, 250, 4)"
   ]
  },
  {
   "cell_type": "code",
   "execution_count": null,
   "id": "1b97eaea-6b7d-4dc7-a167-20e582bac185",
   "metadata": {},
   "outputs": [],
   "source": [
    "src_mask = torch.triu(torch.ones(250, 250) * float('-inf'), diagonal=1)\n",
    "src_mask"
   ]
  },
  {
   "cell_type": "code",
   "execution_count": null,
   "id": "c59f9049-6357-4e7e-97da-e5b7ecbd0bcc",
   "metadata": {},
   "outputs": [],
   "source": [
    "for i, (inp, targ, mask, done, idx) in enumerate(dl):\n",
    "    new_mask = torch.ones_like(mask) * float('-inf')\n",
    "    new_mask[mask.nonzero(as_tuple=True)] = 0.\n",
    "    out = model(inp, src_mask=src_mask, key_mask=new_mask)\n",
    "    print(out.shape, targ.shape)\n",
    "    break"
   ]
  },
  {
   "cell_type": "code",
   "execution_count": 60,
   "id": "f659c194-0479-4a58-be19-4a4ff3e412a6",
   "metadata": {},
   "outputs": [],
   "source": [
    "from pathlib import Path\n",
    "import os\n",
    "import numpy as np\n",
    "from tqdm import tqdm\n",
    "import pickle"
   ]
  },
  {
   "cell_type": "code",
   "execution_count": 50,
   "id": "ed891781-c626-4c7d-9d0d-8d7e96ba9417",
   "metadata": {},
   "outputs": [],
   "source": [
    "DATA_PATH_TRAJ = Path(f'/common/users/dm1487/legged_manipulation_data/rollout_data/latest_individual_traj_mini')\n",
    "all_files = os.listdir(DATA_PATH_TRAJ)"
   ]
  },
  {
   "cell_type": "code",
   "execution_count": 54,
   "id": "2d2d8edc-9dfb-4d8b-8725-dad142da5482",
   "metadata": {},
   "outputs": [
    {
     "name": "stderr",
     "output_type": "stream",
     "text": [
      "100%|██████████████████████████████████████████████████████████████████████████████████████| 161375/161375 [10:03<00:00, 267.31it/s]\n"
     ]
    }
   ],
   "source": [
    "from pathlib import Path\n",
    "import os\n",
    "import numpy as np\n",
    "from tqdm import tqdm\n",
    "import pickle\n",
    "DATA_PATH_TRAJ = Path(f'/common/users/dm1487/legged_manipulation_data/rollout_data/latest_individual_traj_mini')\n",
    "all_files = os.listdir(DATA_PATH_TRAJ)\n",
    "ignore_files = []\n",
    "for i in tqdm(all_files[:]):\n",
    "    traj = np.load(DATA_PATH_TRAJ/i)\n",
    "    last_idx = traj['done'].nonzero()[0][-1]\n",
    "    if np.sum(traj['fsw'][last_idx][:7]) != 0:\n",
    "        if np.sum(traj['fsw'][last_idx][1:7] == traj['priv_obs'][last_idx][1:7]) != 6:\n",
    "            \n",
    "            ignore_files.append(DATA_PATH_TRAJ/i)\n",
    "            \n",
    "## save ignore_files as pickle"
   ]
  },
  {
   "cell_type": "code",
   "execution_count": 57,
   "id": "957a8ea0-cb62-4d81-8644-5da3b03ec991",
   "metadata": {},
   "outputs": [
    {
     "data": {
      "text/plain": [
       "18.422308288148724"
      ]
     },
     "execution_count": 57,
     "metadata": {},
     "output_type": "execute_result"
    }
   ],
   "source": [
    "(len(ignore_files)/len(all_files))*100."
   ]
  },
  {
   "cell_type": "code",
   "execution_count": 51,
   "id": "53a159cb-33ff-4909-afb0-e9c25e4481bb",
   "metadata": {},
   "outputs": [],
   "source": [
    "import pickle\n",
    "with open('/common/users/dm1487/legged_manipulation_data/rollout_data/ignore_files_latest_individual_traj_mini.pkl', 'rb') as f:\n",
    "    ignore_files_loaded = pickle.load(f)"
   ]
  },
  {
   "cell_type": "code",
   "execution_count": 52,
   "id": "f9c418e6-5dec-4e6d-9ee6-1315b9eb847e",
   "metadata": {},
   "outputs": [
    {
     "data": {
      "text/plain": [
       "29729"
      ]
     },
     "execution_count": 52,
     "metadata": {},
     "output_type": "execute_result"
    }
   ],
   "source": [
    "len(ignore_files_loaded)"
   ]
  },
  {
   "cell_type": "code",
   "execution_count": 53,
   "id": "12597cc5-8933-40e1-a2ae-8882873c50e2",
   "metadata": {},
   "outputs": [],
   "source": [
    "idxs_ignored = [int(i.stem.split('_')[-1]) for i in ignore_files_loaded]"
   ]
  },
  {
   "cell_type": "code",
   "execution_count": 77,
   "id": "ca4fefed-a8e6-46c5-9495-d2f0e892cd31",
   "metadata": {},
   "outputs": [
    {
     "data": {
      "text/plain": [
       "131646"
      ]
     },
     "execution_count": 77,
     "metadata": {},
     "output_type": "execute_result"
    }
   ],
   "source": [
    "len(list(set(np.arange(0, len(all_files)).tolist()) - set(idxs_ignored)))"
   ]
  },
  {
   "cell_type": "markdown",
   "id": "6f605f72-7fc2-477b-b5fd-2da193e28fa5",
   "metadata": {},
   "source": [
    "## Transformer test"
   ]
  },
  {
   "cell_type": "code",
   "execution_count": 87,
   "id": "4517ae16-ae10-4cd6-800c-7f8cdc26f2c1",
   "metadata": {},
   "outputs": [],
   "source": [
    "from indep_model.model import MiniTransformer\n",
    "from indep_model.data import CustomDataset\n",
    "import torch\n",
    "from torch import nn\n",
    "from pathlib import Path\n",
    "from glob import glob\n",
    "import numpy as np\n",
    "from torch.utils.data import DataLoader\n",
    "from indep_model.visualization import get_visualization, get_animation\n",
    "from matplotlib import animation\n",
    "from tqdm import tqdm\n",
    "FFwriter = animation.FFMpegWriter"
   ]
  },
  {
   "cell_type": "code",
   "execution_count": 80,
   "id": "97584d63-a4a3-42e9-81a6-1ba4daacbc98",
   "metadata": {},
   "outputs": [
    {
     "data": {
      "text/plain": [
       "265951"
      ]
     },
     "execution_count": 80,
     "metadata": {},
     "output_type": "execute_result"
    }
   ],
   "source": [
    "\n",
    "len(all_train_test_files)"
   ]
  },
  {
   "cell_type": "code",
   "execution_count": 63,
   "id": "5e242dad-36cf-4126-88c9-aa336e4c384e",
   "metadata": {},
   "outputs": [
    {
     "name": "stdout",
     "output_type": "stream",
     "text": [
      "103427\n"
     ]
    }
   ],
   "source": []
  },
  {
   "cell_type": "code",
   "execution_count": 55,
   "id": "c69ccb5f-bde9-4fb7-a8b2-511d726196bb",
   "metadata": {},
   "outputs": [
    {
     "name": "stdout",
     "output_type": "stream",
     "text": [
      "\n"
     ]
    }
   ],
   "source": []
  },
  {
   "cell_type": "code",
   "execution_count": 64,
   "id": "2805c99f-1dc8-47df-a88e-d644f2b8a1d9",
   "metadata": {},
   "outputs": [],
   "source": []
  },
  {
   "cell_type": "code",
   "execution_count": 95,
   "id": "2fd06fca-9b14-4c72-9d0a-5113c7dd2491",
   "metadata": {},
   "outputs": [
    {
     "name": "stdout",
     "output_type": "stream",
     "text": [
      "\n"
     ]
    }
   ],
   "source": [
    "model = MiniTransformer(input_size=37, output_size=14, embed_size=128, hidden_size=2048, num_heads=8, max_sequence_length=250, num_layers=8)\n",
    "model = model.to('cuda:0')\n",
    "model.load_state_dict(torch.load('../indep_model/results/transformer_250_2048/2023-01-30_18-59-39/checkpoints/model_50.pt'))\n",
    "model.eval()\n",
    "print()"
   ]
  },
  {
   "cell_type": "code",
   "execution_count": null,
   "id": "c78c775a-4413-4585-aa0f-6c51d237cb7d",
   "metadata": {},
   "outputs": [],
   "source": [
    "traj_data_file = '/common/users/dm1487/legged_manipulation_data/rollout_data/latest_individual_traj_1'\n",
    "all_train_test_files = sorted(glob(f'{traj_data_file}/*.npz'), key=lambda x: int(x.split('.npz')[0].split('/')[-1].split('_')[-1]))\n",
    "idxs = np.random.randint(0, len(all_train_test_files), 100).astype(int)\n",
    "for n_idx in tqdm(idxs):\n",
    "    traj = np.load(all_train_test_files[n_idx])\n",
    "    one = CustomDataset(files=[all_train_test_files[n_idx]], sequence_length=250, window_size=250)\n",
    "    inp, targ, mask, fsw, done, idx = next(iter(DataLoader(one)))\n",
    "    inp, targ, mask, fsw =  inp.to('cuda:0'), targ.to('cuda:0'), mask.to('cuda:0'), fsw.to('cuda:0')\n",
    "    src_mask = torch.triu(torch.ones(250, 250) * float('-inf'), diagonal=1).to('cuda:0')\n",
    "    patches = []\n",
    "    with torch.inference_mode():\n",
    "        for i in range(1, inp.shape[1]+1):\n",
    "            new_inp = torch.nn.functional.pad(inp[:, :i, :], (0, 0, 0, 250-i))\n",
    "            out = model(new_inp, src_mask)\n",
    "            patches.append(get_visualization(0, inp[:, i-1, :], targ[:, i-1, :], out[:, i-1, :], fsw[:, i-1, :]))\n",
    "        anim = get_animation(patches[:(mask[idx, :, :].nonzero()[:, 1][-1])])\n",
    "        anim.save(f'../indep_model/psuedo_online_sim_results/{n_idx.item()}.mp4', writer = FFwriter(5))"
   ]
  },
  {
   "cell_type": "code",
   "execution_count": 268,
   "id": "fb3913ca-8511-4362-bfa3-103bea1a24d5",
   "metadata": {},
   "outputs": [
    {
     "data": {
      "text/plain": [
       "(torch.Size([2370, 13]), torch.Size([2370, 12]), torch.Size([2370, 12]))"
      ]
     },
     "execution_count": 268,
     "metadata": {},
     "output_type": "execute_result"
    }
   ],
   "source": [
    "dof = torch.load('/common/users/dm1487/abc_3/dof_vel_tracker.zip').permute(1, 0)[:-1]\n",
    "tau = torch.load('/common/users/dm1487/abc_3/est_tau_tracker.zip').permute(1, 0)[:-1]\n",
    "obs = torch.load('/common/users/dm1487/abc_3/observation_tracker.zip').permute(1, 0)\n",
    "obs.shape, tau.shape, dof.shape"
   ]
  },
  {
   "cell_type": "code",
   "execution_count": 276,
   "id": "3f8f0a29-0e96-4eed-b99c-af419fdaf1a4",
   "metadata": {},
   "outputs": [
    {
     "name": "stdout",
     "output_type": "stream",
     "text": [
      "torch.Size([250, 37])\n",
      "torch.Size([1, 250, 13])\n"
     ]
    },
    {
     "data": {
      "text/plain": [
       "<matplotlib.collections.PathCollection at 0x7f5784d55b50>"
      ]
     },
     "execution_count": 276,
     "metadata": {},
     "output_type": "execute_result"
    },
    {
     "data": {
      "image/png": "[encoded data removed]",
      "text/plain": [
       "<Figure size 432x288 with 1 Axes>"
      ]
     },
     "metadata": {
      "needs_background": "light"
     },
     "output_type": "display_data"
    }
   ],
   "source": [
    "# from matplotlib import pyplot as plt\n",
    "# \n",
    "traj_all = torch.cat([obs, tau, dof], dim=-1)[700:-100][::6][:250]\n",
    "print(traj_all.shape)\n",
    "\n",
    "obs_1 = obs[700:-100][::6][:250].unsqueeze(0)\n",
    "print(obs_1.shape)\n",
    "plt.scatter(obs_1[0, :, 0],  obs_1[0, :, 1])"
   ]
  },
  {
   "cell_type": "code",
   "execution_count": 277,
   "id": "3dbbb45f-7633-4f1b-92f2-58a642c202c9",
   "metadata": {},
   "outputs": [],
   "source": [
    "def count_parameters(model): return sum(p.numel() for p in model.parameters() if p.requires_grad)"
   ]
  },
  {
   "cell_type": "code",
   "execution_count": 278,
   "id": "c993553a-0901-4cd5-bc9b-7837a7949351",
   "metadata": {},
   "outputs": [
    {
     "data": {
      "text/plain": [
       "5343886"
      ]
     },
     "execution_count": 278,
     "metadata": {},
     "output_type": "execute_result"
    }
   ],
   "source": [
    "count_parameters(model)"
   ]
  },
  {
   "cell_type": "code",
   "execution_count": 279,
   "id": "f3b8cea3-d4be-4392-9841-52afac1f064f",
   "metadata": {},
   "outputs": [],
   "source": [
    "traj_all_2 = traj_all.view(-1, *traj_all.shape)\n",
    "# traj_all_2.shape"
   ]
  },
  {
   "cell_type": "code",
   "execution_count": 280,
   "id": "60e2f038-7fa3-4026-8740-d41fa2d7e3b7",
   "metadata": {},
   "outputs": [],
   "source": [
    "traj_all_2 = torch.nn.functional.pad(traj_all_2, (0, 0, 0, 250-traj_all_2.shape[1]))"
   ]
  },
  {
   "cell_type": "code",
   "execution_count": 281,
   "id": "a8a5c3fc-ec97-4c31-b940-5d42c1122bd7",
   "metadata": {},
   "outputs": [],
   "source": [
    "# one = CustomDataset(files=[all_train_test_files[n_idx]], sequence_length=250, window_size=250)\n",
    "# inp, targ, mask, fsw, done, idx = next(iter(DataLoader(one)))\n",
    "# inp, targ, mask, fsw =  inp.to('cuda:0'), targ.to('cuda:0'), mask.to('cuda:0'), fsw.to('cuda:0')\n",
    "traj_all_1 = traj_all_2.to('cuda:0')\n",
    "src_mask = torch.triu(torch.ones(250, 250) * float('-inf'), diagonal=1).to('cuda:0')\n",
    "patches = []\n",
    "with torch.inference_mode():\n",
    "    out = model(traj_all_1, src_mask)\n",
    "# with torch.inference_mode():\n",
    "#     for i in range(1, inp.shape[1]+1):\n",
    "#         print(i)\n",
    "#         new_inp = torch.nn.functional.pad(traj_all_1[:, :i, :], (0, 0, 0, 250-i))\n",
    "#         out = model(new_inp, src_mask)\n",
    "#         patches.append(get_visualization(0, traj_all_1[:, i-1, :], targ[:, i-1, :], out[:, i-1, :], fsw[:, i-1, :]))\n",
    "#     anim = get_animation(patches[:(mask[idx, :, :].nonzero()[:, 1][-1])])\n",
    "for i in range(1, traj_all_1.shape[1]+1):\n",
    "    patches.append(get_visualization(0, obs_1[:, i-1, :], fsw[:, i-1, :], out[:, i-1, :], fsw[:, i-1, :]))\n",
    "anim = get_animation(patches)"
   ]
  },
  {
   "cell_type": "code",
   "execution_count": 282,
   "id": "f03568b7-b59f-4b52-84f4-e433b487977b",
   "metadata": {},
   "outputs": [],
   "source": [
    "anim.save(f'test.mp4', writer = FFwriter(5))"
   ]
  },
  {
   "cell_type": "code",
   "execution_count": null,
   "id": "0baca6d2-bdb3-459c-aeab-4336d77c3c5d",
   "metadata": {},
   "outputs": [],
   "source": []
  }
 ],
 "metadata": {
  "kernelspec": {
   "display_name": "Python 3 (ipykernel)",
   "language": "python",
   "name": "python3"
  },
  "language_info": {
   "codemirror_mode": {
    "name": "ipython",
    "version": 3
   },
   "file_extension": ".py",
   "mimetype": "text/x-python",
   "name": "python",
   "nbconvert_exporter": "python",
   "pygments_lexer": "ipython3",
   "version": "3.8.13"
  }
 },
 "nbformat": 4,
 "nbformat_minor": 5
}
